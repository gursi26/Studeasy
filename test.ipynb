{
 "cells": [
  {
   "cell_type": "code",
   "execution_count": 116,
   "metadata": {},
   "outputs": [],
   "source": [
    "import openai\n",
    "from utils import load_api_key"
   ]
  },
  {
   "cell_type": "code",
   "execution_count": 117,
   "metadata": {},
   "outputs": [],
   "source": [
    "openai.api_key = load_api_key(\"/Users/gursi/Desktop/openai-api.txt\")"
   ]
  },
  {
   "cell_type": "code",
   "execution_count": 56,
   "metadata": {},
   "outputs": [],
   "source": [
    "def note_generator(chat_completion: openai.ChatCompletion, outline: dict[str, list[str]], level: str, subject: str):\n",
    "    prompt = engineer_prompt_note_gen(outline, level, subject)\n",
    "    model_output = chat_completion.create(\n",
    "        model = \"gpt-3.5-turbo\",\n",
    "        messages = [\n",
    "            # {\"role\": \"system\", \"content\":f\"Your are a {level} {subject} notes generator.\"},\n",
    "            {\"role\": \"system\", \"content\":f\"Your are a {level} {subject} notes generator. Generate notes in following format: \\n Topic heading: \\n \\t Notes...\"},\n",
    "            {\"role\": \"user\", \"content\":prompt}\n",
    "        ]\n",
    "    )\n",
    "    model_output = parse_results(model_output)\n",
    "    return model_output\n",
    "        \n",
    "    \n",
    "def engineer_prompt_note_gen(outline: dict[str, list[str]], level: str, subject: str):\n",
    "    prompt = f'Generate quick revision notes for me on the following topics for a {subject} course on a {level} level. Include all equations. Explain each variable and concept. Do not say \"sure, here are some notes..\".\\n\\n'\n",
    "    for topic in outline:\n",
    "        prompt += f\"- {topic}\\n\"\n",
    "        if outline[topic] is not None:\n",
    "            for subtopic in outline[topic]:\n",
    "                prompt += f\"    - {subtopic}\\n\"\n",
    "    return prompt\n",
    "\n",
    "\n",
    "def parse_results(chatgpt_output: dict) -> str:\n",
    "    return chatgpt_output[\"choices\"][0][\"message\"][\"content\"]"
   ]
  },
  {
   "cell_type": "code",
   "execution_count": 118,
   "metadata": {},
   "outputs": [],
   "source": [
    "openai.api_key = load_api_key(\"/Users/gursi/Desktop/openai-api.txt\")\n",
    "chat_complete = openai.ChatCompletion"
   ]
  },
  {
   "cell_type": "code",
   "execution_count": 246,
   "metadata": {},
   "outputs": [],
   "source": [
    "outline = {\n",
    "    \"Solution to -1/2 factorial\":None,\n",
    "}\n",
    "output = note_generator(chat_complete, outline, \"College\", \"Mathematics\")"
   ]
  },
  {
   "cell_type": "code",
   "execution_count": 247,
   "metadata": {},
   "outputs": [
    {
     "name": "stdout",
     "output_type": "stream",
     "text": [
      "Topic heading: Solution to -1/2 factorial\n",
      "\n",
      "Notes:\n",
      "The notation for a factorial is given by the exclamation mark, which is represented by the symbol (!). Factorials are used to calculate the number of permutations and arrangements of items. For non-negative integers, the factorial of a number is calculated as follows:\n",
      "\n",
      "n! = n * (n - 1) * (n - 2) * ... * 2 * 1\n",
      "\n",
      "For example, 5! = 5 * 4 * 3 * 2 * 1 = 120.\n",
      "\n",
      "However, for non-integer values, including negative numbers, the factorial is calculated using the gamma function. The gamma function is defined as follows:\n",
      "\n",
      "Γ(z) = ∫(0,inf) t^(z-1) * e^(-t) dt\n",
      "\n",
      "Where z is a complex number.\n",
      "\n",
      "To calculate -1/2 factorial using gamma function, substitute -1/2 into the equation above:\n",
      "\n",
      "Γ(-1/2) = ∫(0,inf) t^(-3/2) * e^(-t) dt\n",
      "\n",
      "Using integration by parts, we get:\n",
      "\n",
      "Γ(-1/2) = 2 * √π\n",
      "\n",
      "Therefore, -1/2 factorial is equal to 2 times the square root of pi, or:\n",
      "\n",
      "(-1/2)! = 2 * √π\n",
      "\n",
      "Note that \"factorial\" for negative non-integer numbers does not have a commonly accepted definition, and is not considered a standard operation in mathematics.\n"
     ]
    }
   ],
   "source": [
    "print(output)"
   ]
  },
  {
   "cell_type": "code",
   "execution_count": 11,
   "metadata": {},
   "outputs": [],
   "source": [
    "from utils import parse_results, parse_pdf, create_chat_object\n",
    "from sklearn.cluster import KMeans\n",
    "import numpy as np\n",
    "import openai\n",
    "import string"
   ]
  },
  {
   "cell_type": "code",
   "execution_count": 23,
   "metadata": {},
   "outputs": [],
   "source": [
    "def extract_keywords_from_prompt(chat_completion: openai.ChatCompletion, prompt: str):\n",
    "    model_output = chat_completion.create(\n",
    "        model = \"gpt-3.5-turbo\",\n",
    "        messages = [\n",
    "            {\"role\": \"system\", \"content\":f\"Your job is to extract key words from text. Generic words should never be extracted, only topic specific words.\"},\n",
    "            {\"role\": \"user\", \"content\":f\"Extract the keywords from the following instruction. Output a single list of comma separated values only once. \\n\\n {prompt}\"}\n",
    "        ]\n",
    "    )\n",
    "    output = parse_results(model_output)\n",
    "    return output.split(\",\")\n",
    "\n",
    "def generate_single_summary(chat_completion: openai.ChatCompletion, input_text: str, summary_prompt: str) -> str:\n",
    "    model_output = chat_completion.create(\n",
    "        model = \"gpt-3.5-turbo\",\n",
    "        messages = [\n",
    "            {\"role\": \"system\", \"content\":f\"Your job is to summarize text based on a prompt. If relevant data is not found, return nothing.\"},\n",
    "            {\"role\": \"user\", \"content\":f\"{input_text} \\n\\n {summary_prompt}\"}\n",
    "        ]\n",
    "    )\n",
    "    output = parse_results(model_output)\n",
    "    return output\n",
    "\n",
    "def generate_summary(\n",
    "        chat_completion: openai.ChatCompletion,\n",
    "        text_body: str,\n",
    "        prompt: str,\n",
    "        buffer: int = 600\n",
    ") -> str:\n",
    "    keywords = extract_keywords_from_prompt(chat_completion, prompt)\n",
    "    keywords = [k.translate(str.maketrans('', '', string.punctuation)).strip().lower() for k in keywords]\n",
    "    print(f\"{len(keywords)} keywords found...\")\n",
    "    kw = []\n",
    "    [[kw.append(w) for w in word.split(\" \")] for word in keywords]\n",
    "    arr_text = np.array(text_body.lower().split())\n",
    "\n",
    "    print(\"Matching keywords in text...\")\n",
    "    idxs = np.array([])\n",
    "    max_idx = len(arr_text)\n",
    "    for keyw in kw:\n",
    "        kw_idxs = np.where(arr_text == keyw)[0] / max_idx\n",
    "        idxs = np.concatenate([idxs, kw_idxs])\n",
    "\n",
    "    print(\"Clustering...\")\n",
    "    kmeans = KMeans(n_clusters = len(keywords))\n",
    "    _ = kmeans.fit_predict(idxs.reshape(-1, 1))\n",
    "    centroid_idxs = list((kmeans.cluster_centers_ * len(arr_text)).astype(int).reshape(-1))\n",
    "\n",
    "    print(\"Generating summary...\")\n",
    "    summaries = []\n",
    "    for centroid_idx in centroid_idxs:\n",
    "        text_input = list(arr_text[max(0, centroid_idx - buffer):min(len(arr_text), centroid_idx + buffer)])\n",
    "        text_input = \" \".join(text_input)\n",
    "        summary = generate_single_summary(chat_completion, text_input, prompt)\n",
    "        summaries.append(summary)\n",
    "    summaries = \" \".join(summaries)\n",
    "    final_summary = generate_single_summary(chat_completion, summaries, prompt)\n",
    "    return final_summary"
   ]
  },
  {
   "cell_type": "code",
   "execution_count": 24,
   "metadata": {},
   "outputs": [
    {
     "name": "stdout",
     "output_type": "stream",
     "text": [
      "4 keywords found...\n",
      "Matching keywords in text...\n",
      "Clustering...\n",
      "Generating summary...\n",
      "The study used an artificial neural system that separated image content from style using a VGG neural network and optimizing the white noise image through gradient descent. The loss function included a squared-error loss for feature representation and a mean-squared distance for style representation, with adjustable trade-off between the two. The model architecture consisted of 16 convolutional and 5 pooling layers, with max-pooling replaced by average pooling for image synthesis. Fully connected layers were not used, and the model was publicly available in the Caffe framework. The weighting factors for the contribution of each layer to the total loss were also included.\n"
     ]
    }
   ],
   "source": [
    "text_body = parse_pdf(\"/Users/gursi/Desktop/nst.pdf\")\n",
    "prompt = \"Summarize the loss function, optimization method and model architecture used in this study for me.\"\n",
    "chat_completion = create_chat_object(\"/Users/gursi/Desktop/openai-api.txt\")\n",
    "summary = generate_summary(\n",
    "    chat_completion,\n",
    "    text_body,\n",
    "    prompt,\n",
    ")\n",
    "print(summary)"
   ]
  },
  {
   "cell_type": "code",
   "execution_count": 248,
   "metadata": {},
   "outputs": [
    {
     "name": "stdout",
     "output_type": "stream",
     "text": [
      "2 keywords found...\n",
      "Matching keywords in text...\n",
      "Clustering...\n",
      "Generating summary...\n",
      "Linear independence is a property of a set of vectors where none of them can be expressed as a combination of the others. It is important in linear algebra for subspaces and bases. A basis is a set of linearly independent vectors that spans the subspace, and the dimension of a subspace is the number of vectors in a basis. Linearly independent vectors can be used as a basis for a vector space, allowing any vector in that space to be expressed as a unique linear combination of the basis vectors. The determinant of their matrix must be non-zero for a set of vectors to be linearly independent.\n"
     ]
    }
   ],
   "source": [
    "text_body = parse_pdf(\"/Users/gursi/desktop/223.pdf\")\n",
    "prompt = \"Summarize linear independence.\"\n",
    "chat_completion = create_chat_object(\"/Users/gursi/Desktop/openai-api.txt\")\n",
    "summary = generate_summary(\n",
    "    chat_completion,\n",
    "    text_body,\n",
    "    prompt,\n",
    ")\n",
    "print(summary)"
   ]
  },
  {
   "cell_type": "code",
   "execution_count": 27,
   "metadata": {},
   "outputs": [
    {
     "name": "stdout",
     "output_type": "stream",
     "text": [
      "3 keywords found...\n",
      "Matching keywords in text...\n",
      "Clustering...\n",
      "Generating summary...\n",
      "The intertemporal budget line is a concept that represents the trade-off between current and future consumption. It shows the different combinations of present and future goods that a consumer can afford given their income and the interest rate. The slope of the line represents the opportunity cost of present consumption in terms of future consumption, and the intercepts represent the maximum levels of current and future consumption. The economic interpretation of the intercepts is that they represent the present value of future income or the future value of current income. A numerical example is provided to illustrate how the intertemporal budget line works in practice. Overall, the intertemporal budget line is a useful tool for analyzing the intertemporal allocation of resources and understanding how individuals make choices between present and future consumption. However, the given text does not contain information on the intertemporal budget line. It primarily deals with the capital asset pricing model, its assumptions, and their economic interpretations. It also discusses the use of assumptions in economics to establish knowledge about how markets set prices and the empirical verification of theoretical models, including the failures of the capital asset pricing model to explain certain phenomena. The text also covers other topics such as futures contracts, bonds, initial public offerings, mutual funds, and the pricing of newly issued securities.\n"
     ]
    }
   ],
   "source": [
    "text_body = parse_pdf(\"/Users/gursi/desktop/eco.pdf\")\n",
    "prompt = \"Summarize the topic on the intertemporal budget line.\"\n",
    "chat_completion = create_chat_object(\"/Users/gursi/Desktop/openai-api.txt\")\n",
    "summary = generate_summary(\n",
    "    chat_completion,\n",
    "    text_body,\n",
    "    prompt,\n",
    ")\n",
    "print(summary)"
   ]
  },
  {
   "cell_type": "code",
   "execution_count": 62,
   "metadata": {},
   "outputs": [],
   "source": [
    "text_body = parse_pdf(\"/Users/gursi/Desktop/test.pdf\")"
   ]
  },
  {
   "cell_type": "code",
   "execution_count": 264,
   "metadata": {},
   "outputs": [],
   "source": [
    "model_output = chat_completion.create(\n",
    "        model = \"gpt-3.5-turbo\",\n",
    "        messages = [\n",
    "            {\"role\": \"system\", \"content\":f\"Your job is to extract questions and their respective answers from the given texts. Output them in the given format: \\n\\n Question: \\n Answer: \\n\"},\n",
    "            {\"role\": \"user\", \"content\":f\"{text_body[:-9000]} \\n\\n Make sure to extract questions and their answers.\"}\n",
    "        ]\n",
    "    )\n",
    "output = parse_results(model_output)"
   ]
  },
  {
   "cell_type": "code",
   "execution_count": 265,
   "metadata": {},
   "outputs": [
    {
     "name": "stdout",
     "output_type": "stream",
     "text": [
      "Sorry, I cannot extract questions and answers as the given text does not include any specific questions and answers. It only provides information about the course syllabus, instructors, TAs, textbook, and assessment system.\n"
     ]
    }
   ],
   "source": [
    "print(output)"
   ]
  },
  {
   "cell_type": "code",
   "execution_count": 250,
   "metadata": {},
   "outputs": [],
   "source": [
    "def read_questions_answers(chat_completion: openai.ChatCompletion, text_body: str, div_length: int = 5000) -> dict[str, str]:\n",
    "    output_strs = \"\"\n",
    "    for i in range(1, (len(text_body) // div_length) + 2):\n",
    "        x = i * div_length\n",
    "        substr = text_body[(x - i):x]\n",
    "        model_output = chat_completion.create(\n",
    "            model = \"gpt-3.5-turbo\",\n",
    "            messages = [\n",
    "                # {\"role\": \"system\", \"content\":f\"Your job is to extract suspected questions and their answers from the given text. Output them in the given format: \\n\\n Question: \\n Answer: \\n\"},\n",
    "                # {\"role\": \"user\", \"content\":f\"Find and extract question and answer pairs from this test: {text_body}\"}\n",
    "                {\"role\": \"system\", \"content\":f\"Your task is to analyze a given text and extract questions along with their respective answers. While examining the text, ensure that you pay close attention to accuracy, clarity, and any specific formatting requirements within the text. If a question contains unique elements like programming code or math equations, make sure to include those in your output as well. Present your findings using the following format: Question: [Insert extracted question here] Answer: [Insert corresponding answer here] While maintaining the original meaning of both questions and answers, demonstrate flexibility and creativity in extracting information from various types of texts (e.g., articles, interviews, forums). Your response should be adaptable enough to capture unique insights found within different sources while still accurately presenting the extracted data. Please provide at least three examples of questions and answers extracted from the provided text.\"},\n",
    "                {\"role\": \"user\", \"content\":f\"{substr} \\n\\n Make sure to extract questions and their answers.\"}\n",
    "            ]\n",
    "        )\n",
    "        output = parse_results(model_output)\n",
    "        output_strs += output + \"\\n\\n\"\n",
    "\n",
    "    # output_dict = {}\n",
    "    # for qna_pair in output.split(\"Question:\"):\n",
    "    #     if qna_pair != \"\":\n",
    "    #         q, a = qna_pair.split(\"Answer:\")\n",
    "    #         q, a = q.strip(), a.strip()\n",
    "    #         output_dict[q] = a\n",
    "    # return output_dict\n",
    "    return output_strs"
   ]
  },
  {
   "cell_type": "code",
   "execution_count": 251,
   "metadata": {},
   "outputs": [],
   "source": [
    "text_body = parse_pdf(\"/Users/gursi/Desktop/test.pdf\")\n",
    "output_dict = read_questions_answers(chat_completion, text_body)"
   ]
  },
  {
   "cell_type": "code",
   "execution_count": 252,
   "metadata": {},
   "outputs": [
    {
     "name": "stdout",
     "output_type": "stream",
     "text": [
      "Sure, I apologize for the mistake. Can you please provide me with the text that you would like me to analyze and extract questions and their answers from?\n",
      "\n",
      "Question: What is the task I am supposed to perform on the given text? \n",
      "Answer: You are supposed to analyze the given text and extract questions along with their respective answers. \n",
      "\n",
      "Question: What are the things to be considered while examining the text?\n",
      "Answer: Accuracy, clarity, and any specific formatting requirements within the text should be considered while examining the text.\n",
      "\n",
      "Question: How should the extracted information be presented?\n",
      "Answer: The extracted information should be presented in the format of Question and Answer.\n",
      "\n",
      "Apologies for the confusion. Here are three examples of questions and their corresponding answers extracted from the provided text:\n",
      "\n",
      "Question: What is the main purpose of this text?\n",
      "Answer: The main purpose of this text is to provide instructions on how to analyze a given text and extract questions along with their respective answers.\n",
      "\n",
      "Question: What should be paid attention to while examining the text?\n",
      "Answer: While examining the text, one should pay close attention to accuracy, clarity, and any specific formatting requirements within the text.\n",
      "\n",
      "Question: What should be included in the output if a question contains unique elements like programming code or math equations?\n",
      "Answer: If a question contains unique elements like programming code or math equations, they should be included in the output along with the question and answer.\n",
      "\n",
      "\n"
     ]
    }
   ],
   "source": [
    "print(output_dict)"
   ]
  },
  {
   "cell_type": "code",
   "execution_count": 274,
   "metadata": {},
   "outputs": [
    {
     "name": "stdout",
     "output_type": "stream",
     "text": [
      "Score (Out of 100): 60\n",
      "Feedback: Your answer is discussing specific steps for data cleaning in R rather than addressing the question of what should be considered while examining text. While the information you provided may be useful in some contexts, it is not directly related to the topic at hand. To improve your score, try to focus on answering the question asked and providing relevant information.\n"
     ]
    }
   ],
   "source": [
    "sample_question = list(output_dict.keys())[1]\n",
    "expected_answer = output_dict[sample_question]\n",
    "my_answer = \"Missing values in the DOB field are represented with the NA values. The code will not produce correct outputs if these are not removed. You would remove them using the is.na() and filter() functions in R.\"\n",
    "\n",
    "def grade_answer(chat_completion: openai.ChatCompletion, question: str, my_answer: str, correct_answer: str) -> str:\n",
    "    model_output = chat_completion.create(\n",
    "        model = \"gpt-3.5-turbo\",\n",
    "        messages = [\n",
    "            {\"role\": \"system\", \"content\":f\"You are a teacher and your job is to grade my answer based on the Expected Answer and Question. My answer need not exactly match the Expected Answer. Give your output in the following format: \\n Score (Out of 100): \\n Feedback: ...\\n\"},\n",
    "            {\"role\": \"user\", \"content\":f\"Question: {question} \\n Expected Answer: {correct_answer} \\n My answer: {my_answer}\"}\n",
    "        ]\n",
    "    )\n",
    "    output = parse_results(model_output)\n",
    "    return output\n",
    "\n",
    "print(grade_answer(chat_completion, sample_question, my_answer, expected_answer))"
   ]
  },
  {
   "cell_type": "code",
   "execution_count": 258,
   "metadata": {},
   "outputs": [
    {
     "name": "stdout",
     "output_type": "stream",
     "text": [
      "Grade weightages/Breakdown:\n",
      "- Reading Assignments - 14%\n",
      "- Online Standards-based Homework - 15%\n",
      "- Group Reports - 30%\n",
      "- Individual Reflective Writing Assignments - 6%\n",
      "- Standards-based, in-person final exam or final project - 35%\n",
      "\n",
      "Office Hours: Posted on Quercus\n",
      "\n",
      "Mandatory Attendance: Not mentioned\n",
      "\n",
      "Late submission policy:\n",
      "- Late reading assignments are not accepted\n",
      "- MathMatize homework assignments must be completed by the due dates listed above\n",
      "- Late group reports are not accepted except for special circumstances\n",
      "\n",
      "Regrading policy: Students can resubmit online standards-based homework and group reports without penalty. The higher of the original score and resubmitted score will be used for course marks. Final exam and individual reflective writing assignments cannot be resubmitted.\n"
     ]
    }
   ],
   "source": [
    "def generate_syllabus(chat_completion: openai.ChatCompletion, text_body: str, div_length: int = 5000) -> str:\n",
    "    model_output = chat_completion.create(\n",
    "        model = \"gpt-3.5-turbo\",\n",
    "        messages = [\n",
    "            # {\"role\": \"system\", \"content\":f\"Your job is to read the information and extract the Grade Weightages, Office Hour timings, whther or not the course has mandatory attendance, the late submission policy and the regrading policy and output it in the given format:\\n\\n - Grade weightages/Breakdown: \\n  - Component 1 - X% \\n   - Component 2 - X% \\n Office Hours: \\n Mandatory Attendance: <Yes/No>\\n Late submissing policy: \\n Regrading policy: \"},\n",
    "            {\"role\": \"system\", \"content\":f\"Your job is to read the information and extract the Grade Weightages, Office Hour timings, whther or not the course has mandatory attendance, the late submission policy and the regrading policy and output it in the given format:\\n\\n - Grade weightages/Breakdown: \\n  - Component 1 - X% \\n   - Component 2 - X% \\n Office Hours: \\n Mandatory Attendance: <Yes/No>\\n Late submissing policy: \\n Regrading policy: \"},\n",
    "            {\"role\": \"user\", \"content\":f\"{text_body}\"}\n",
    "            ]\n",
    "        )\n",
    "    output = parse_results(model_output)\n",
    "    return output\n",
    "\n",
    "text_body = parse_pdf(\"/Users/gursi/Desktop/223-syl.pdf\")\n",
    "output = generate_syllabus(chat_completion, text_body)\n",
    "print(output)"
   ]
  },
  {
   "cell_type": "code",
   "execution_count": 260,
   "metadata": {},
   "outputs": [
    {
     "name": "stdout",
     "output_type": "stream",
     "text": [
      "Question: What is an improper integral?\n",
      "\n",
      "Answer: An improper integral is a type of definite integral where either the limits of integration or the integrand itself is unbounded or undefined. This means that the integral cannot be evaluated using the traditional methods of integration and requires special techniques to determine its value.\n"
     ]
    }
   ],
   "source": [
    "model_output = chat_completion.create(\n",
    "    model = \"gpt-3.5-turbo\",\n",
    "    messages = [\n",
    "        {\"role\": \"system\", \"content\":f\"You are a college exam maker for the mathematics department. Your job is to generate question and answer pairs for questions of the given topic in the format: \\n Question: \\n Answer: \"},\n",
    "        {\"role\": \"user\", \"content\":f\"Improper integrals\"}\n",
    "        ]\n",
    "    )\n",
    "output = parse_results(model_output)\n",
    "print(output)"
   ]
  },
  {
   "cell_type": "code",
   "execution_count": 287,
   "metadata": {},
   "outputs": [],
   "source": [
    "def generate_questions(chat_completion: openai.ChatCompletion, level: str, subject: str, topic: str, difficulty: str, num_questions: int) -> dict[str, str]:\n",
    "    model_output = chat_completion.create(\n",
    "        model = \"gpt-3.5-turbo\",\n",
    "        messages = [\n",
    "            {\"role\": \"system\", \"content\":f\"You are a {level} exam maker for the {subject} department. Your job is to generate the given number of question and answer pairs for questions of the given topic in the format. Do not number the questions: \\n Question: \\n Answer: \\n\\n\"},\n",
    "            {\"role\": \"user\", \"content\":f\"Generate {str(num_questions)} of difficulty {difficulty} on {topic}\"}\n",
    "            ]\n",
    "        )\n",
    "    output = parse_results(model_output)\n",
    "    output_dict = {}\n",
    "    for qna_pair in output.strip().split(\"Question:\"):\n",
    "        if qna_pair != \"\":\n",
    "            q, a = qna_pair.split(\"Answer:\")\n",
    "            q, a = q.strip(), a.strip()\n",
    "            output_dict[q] = a\n",
    "    return output_dict"
   ]
  },
  {
   "cell_type": "code",
   "execution_count": 288,
   "metadata": {},
   "outputs": [],
   "source": [
    "output = generate_questions(chat_completion, \"High school\", \"Biology\", \"Plant biology\", \"Easy\", 5)"
   ]
  },
  {
   "cell_type": "code",
   "execution_count": 289,
   "metadata": {},
   "outputs": [
    {
     "name": "stdout",
     "output_type": "stream",
     "text": [
      "{'What is photosynthesis?': 'Photosynthesis is the process by which plants convert light energy into chemical energy to be stored as glucose.', 'What is the function of the root system in a plant?': 'The root system in a plant anchors it to the soil and absorbs water and nutrients.', 'What is the function of stomata in plants?': 'Stomata are small openings on the surface of leaves that allow for the exchange of gases, such as carbon dioxide and oxygen.', 'What is the function of chloroplasts in plant cells?': 'Chloroplasts are organelles within plant cells that carry out photosynthesis.', 'What is the function of the stem in a plant?': 'The stem provides support for the plant and transports water and nutrients throughout the plant.'}\n"
     ]
    }
   ],
   "source": [
    "print(output)"
   ]
  },
  {
   "cell_type": "code",
   "execution_count": 266,
   "metadata": {},
   "outputs": [],
   "source": [
    "sample_output = \"\"\"\n",
    "Question: What is the task I am supposed to perform on the given text? \n",
    "Answer: You are supposed to analyze the given text and extract questions along with their respective answers. \n",
    "\n",
    "Question: What are the things to be considered while examining the text?\n",
    "Answer: Accuracy, clarity, and any specific formatting requirements within the text should be considered while examining the text.\n",
    "\n",
    "Question: How should the extracted information be presented?\n",
    "Answer: The extracted information should be presented in the format of Question and Answer.\n",
    "\n",
    "Apologies for the confusion. Here are three examples of questions and their corresponding answers extracted from the provided text:\n",
    "\n",
    "Question: What is the main purpose of this text?\n",
    "Answer: The main purpose of this text is to provide instructions on how to analyze a given text and extract questions along with their respective answers.\n",
    "\n",
    "Question: What should be paid attention to while examining the text?\n",
    "Answer: While examining the text, one should pay close attention to accuracy, clarity, and any specific formatting requirements within the text.\n",
    "\n",
    "Question: What should be included in the output if a question contains unique elements like programming code or math equations?\n",
    "Answer: If a question contains unique elements like programming code or math equations, they should be included in the output along with the question and answer.\n",
    "\"\"\""
   ]
  },
  {
   "cell_type": "code",
   "execution_count": 271,
   "metadata": {},
   "outputs": [],
   "source": [
    "output_dict = {}\n",
    "for qna_pair in sample_output.strip().split(\"Question:\"):\n",
    "    if qna_pair != \"\":\n",
    "        q, a = qna_pair.split(\"Answer:\")\n",
    "        q, a = q.strip(), a.strip()\n",
    "        output_dict[q] = a"
   ]
  },
  {
   "cell_type": "code",
   "execution_count": 272,
   "metadata": {},
   "outputs": [
    {
     "data": {
      "text/plain": [
       "{'What is the task I am supposed to perform on the given text?': 'You are supposed to analyze the given text and extract questions along with their respective answers.',\n",
       " 'What are the things to be considered while examining the text?': 'Accuracy, clarity, and any specific formatting requirements within the text should be considered while examining the text.',\n",
       " 'How should the extracted information be presented?': 'The extracted information should be presented in the format of Question and Answer.\\n\\nApologies for the confusion. Here are three examples of questions and their corresponding answers extracted from the provided text:',\n",
       " 'What is the main purpose of this text?': 'The main purpose of this text is to provide instructions on how to analyze a given text and extract questions along with their respective answers.',\n",
       " 'What should be paid attention to while examining the text?': 'While examining the text, one should pay close attention to accuracy, clarity, and any specific formatting requirements within the text.',\n",
       " 'What should be included in the output if a question contains unique elements like programming code or math equations?': 'If a question contains unique elements like programming code or math equations, they should be included in the output along with the question and answer.'}"
      ]
     },
     "execution_count": 272,
     "metadata": {},
     "output_type": "execute_result"
    }
   ],
   "source": [
    "output_dict"
   ]
  }
 ],
 "metadata": {
  "kernelspec": {
   "display_name": "hackathon",
   "language": "python",
   "name": "python3"
  },
  "language_info": {
   "codemirror_mode": {
    "name": "ipython",
    "version": 3
   },
   "file_extension": ".py",
   "mimetype": "text/x-python",
   "name": "python",
   "nbconvert_exporter": "python",
   "pygments_lexer": "ipython3",
   "version": "3.9.13"
  },
  "orig_nbformat": 4
 },
 "nbformat": 4,
 "nbformat_minor": 2
}
