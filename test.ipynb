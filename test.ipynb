{
 "cells": [
  {
   "cell_type": "code",
   "execution_count": 119,
   "metadata": {},
   "outputs": [],
   "source": [
    "import openai\n",
    "from utils import load_api_key"
   ]
  },
  {
   "cell_type": "code",
   "execution_count": 120,
   "metadata": {},
   "outputs": [],
   "source": [
    "openai.api_key = load_api_key(\"/Users/gursi/Desktop/openai-api.txt\")"
   ]
  },
  {
   "cell_type": "code",
   "execution_count": 122,
   "metadata": {},
   "outputs": [],
   "source": [
    "def note_generator(chat_completion: openai.ChatCompletion, outline: dict[str, list[str]], level: str, subject: str):\n",
    "    prompt = engineer_prompt_note_gen(outline, level, subject)\n",
    "    model_output = chat_completion.create(\n",
    "        model = \"gpt-3.5-turbo\",\n",
    "        messages = [\n",
    "            {\"role\": \"system\", \"content\":f\"Your are a {level} {subject} notes generator.\"},\n",
    "            {\"role\": \"user\", \"content\":prompt}\n",
    "        ]\n",
    "    )\n",
    "    model_output = parse_results(model_output)\n",
    "    return model_output\n",
    "        \n",
    "    \n",
    "def engineer_prompt_note_gen(outline: dict[str, list[str]], level: str, subject: str):\n",
    "    prompt = f'Generate quick revision notes for me on the following topics for a {subject} course on a {level} level. Include all equations. Explain each variable and concept. Do not say \"sure, here are some notes..\".\\n\\n'\n",
    "    for topic in outline:\n",
    "        prompt += f\"- {topic}\\n\"\n",
    "        if outline[topic] is not None:\n",
    "            for subtopic in outline[topic]:\n",
    "                prompt += f\"    - {subtopic}\\n\"\n",
    "    return prompt\n",
    "\n",
    "\n",
    "def parse_results(chatgpt_output: dict) -> str:\n",
    "    return chatgpt_output[\"choices\"][0][\"message\"][\"content\"]"
   ]
  },
  {
   "cell_type": "code",
   "execution_count": 123,
   "metadata": {},
   "outputs": [],
   "source": [
    "openai.api_key = load_api_key(\"/Users/gursi/Desktop/openai-api.txt\")\n",
    "chat_complete = openai.ChatCompletion"
   ]
  },
  {
   "cell_type": "code",
   "execution_count": 124,
   "metadata": {},
   "outputs": [],
   "source": [
    "outline = {\n",
    "    \"Electromagnetism\":None,\n",
    "    \"Electricity\":[\n",
    "        \"Resistance\",\n",
    "        \"Energy and Power\",\n",
    "        \"Kirchoff Laws\",\n",
    "        \"Lenz laws\"\n",
    "    ],\n",
    "    \"Mechanics\": [\n",
    "        \"SUVAT equations\",\n",
    "        \"Terminal velocity\",\n",
    "        \"Friction and Drag\"\n",
    "    ]\n",
    "}\n",
    "output = note_generator(chat_complete, outline, \"High school\", \"Physics\")"
   ]
  },
  {
   "cell_type": "code",
   "execution_count": 125,
   "metadata": {},
   "outputs": [
    {
     "name": "stdout",
     "output_type": "stream",
     "text": [
      "Electromagnetism:\n",
      "\n",
      "- Electromagnetism is the branch of physics responsible for the study of the properties and interactions of electric currents and magnetic fields.\n",
      "- The electromagnetic force is one of the four fundamental forces of the universe and is responsible for the electric and magnetic fields that exist around us.\n",
      "\n",
      "Electricity:\n",
      "\n",
      "Resistance:\n",
      "\n",
      "- Resistance is the measure of obstruction of the flow of electric current through a circuit. \n",
      "- The unit of resistance is ohms (Ω). \n",
      "- The relationship between resistance, current, and potential difference is given by Ohm's Law as V = IR, where V is the potential difference, I is the current, and R is the resistance.\n",
      "\n",
      "Energy and Power:\n",
      "\n",
      "- Energy is the ability to do work, and is measured in joules (J).\n",
      "- Power is the rate at which work is done, and is measured in watts (W). \n",
      "- The relationship between energy, power, and time is given by P = E/t, where P is power, E is energy, and t is time.\n",
      "\n",
      "Kirchoff Laws:\n",
      "\n",
      "- Kirchoff's laws are two fundamental principles used to analyze electrical circuits. \n",
      "- Kirchoff's Current Law (KCL) states that the sum of the currents flowing into a node must be equal to the sum of the currents flowing out of the node. \n",
      "- Kirchoff's Voltage Law (KVL) states that the sum of the potential differences around any closed loop in a circuit must be equal to zero.\n",
      "\n",
      "Lenz Laws:\n",
      "\n",
      "- Lenz's Law is a fundamental principle in electromagnetism that states that the direction of the induced electromotive force (EMF) in a conductor will be such that it opposes the change that produced it.\n",
      "- This law is based on the principle of conservation of energy and is used to explain the behavior of electromagnetic induction phenomena.\n",
      "\n",
      "Mechanics:\n",
      "\n",
      "SUVAT equations:\n",
      "\n",
      "- The SUVAT equations are a set of equations used to describe the motion of an object in one dimension under constant acceleration. \n",
      "- The variables involved in these equations are S (displacement), U (initial velocity), V (final velocity), A (acceleration), and T (time). The equations are:\n",
      "\n",
      "   V = U + AT\n",
      "   S = UT + 0.5AT^2\n",
      "   V^2 = U^2 + 2AS\n",
      "   S = 0.5 (U + V) T \n",
      "\n",
      "Terminal Velocity:\n",
      "\n",
      "- Terminal velocity is the maximum velocity reached by a falling object when the resistance of the medium through which it is falling prevents further acceleration. \n",
      "- Terminal velocity is reached when the force of air resistance is equal in magnitude and opposite in direction to the force of gravity.\n",
      "\n",
      "Friction and Drag:\n",
      "\n",
      "- Friction is the force that opposes the relative motion of two surfaces in contact. \n",
      "- Drag is the force exerted by a fluid on an object moving through it. \n",
      "- Both friction and drag are proportional to the area of contact between the surfaces and the velocity of the object. The equations are:\n",
      "\n",
      "   Friction Force = Coefficient of Friction * Normal Force\n",
      "   Drag Force = 0.5 * Density of Fluid * Velocity^2 * Cross-sectional Area * Drag Coefficient\n"
     ]
    }
   ],
   "source": [
    "print(output)"
   ]
  },
  {
   "cell_type": "code",
   "execution_count": 27,
   "metadata": {},
   "outputs": [],
   "source": [
    "from PyPDF2 import PdfReader\n",
    "from utils import parse_results\n",
    "from sklearn.cluster import KMeans\n",
    "import numpy as np\n",
    "import openai\n",
    "import string"
   ]
  },
  {
   "cell_type": "code",
   "execution_count": 2,
   "metadata": {},
   "outputs": [],
   "source": [
    "def parse_pdf(pdf_path: str) -> str:\n",
    "    reader = PdfReader(pdf_path)\n",
    "    text_body = \"\"\n",
    "    for page in reader.pages:\n",
    "        text_body += \" \" + page.extract_text()\n",
    "    return text_body\n",
    "\n",
    "\n",
    "def extract_keywords_from_prompt(chat_completion: openai.ChatCompletion, prompt: str):\n",
    "    model_output = chat_completion.create(\n",
    "        model = \"gpt-3.5-turbo\",\n",
    "        messages = [\n",
    "            {\"role\": \"system\", \"content\":f\"Your job is to extract key words from text. Generic words should never be extracted, only topic specific words.\"},\n",
    "            {\"role\": \"user\", \"content\":f\"Extract the keywords from the following instruction. Output a single list of comma separated values only once. \\n\\n {prompt}\"}\n",
    "        ]\n",
    "    )\n",
    "    output = parse_results(model_output)\n",
    "    return output.split(\",\")"
   ]
  },
  {
   "cell_type": "code",
   "execution_count": 37,
   "metadata": {},
   "outputs": [],
   "source": [
    "text_body = parse_pdf(\"/Users/gursi/Desktop/nst.pdf\")\n",
    "max_num_words = 200\n",
    "prompt = \"Summarize the loss function, optimization method and model architecture used in this study for me.\"\n",
    "chat_completion = openai.ChatCompletion\n",
    "buffer = 400\n",
    "\n",
    "# keywords = extract_keywords_from_prompt(chat_completion, prompt)\n",
    "keywords = ['loss function', ' optimization method', ' model architecture', ' study.']\n",
    "keywords = [k.translate(str.maketrans('', '', string.punctuation)).strip().lower() for k in keywords]\n",
    "kw = []\n",
    "[[kw.append(w) for w in word.split(\" \")] for word in keywords]\n",
    "arr_text = np.array(text_body.lower().split())\n",
    "\n",
    "idxs = np.array([])\n",
    "max_idx = len(arr_text)\n",
    "for keyw in kw:\n",
    "    kw_idxs = np.where(arr_text == keyw)[0] / max_idx\n",
    "    idxs = np.concatenate([idxs, kw_idxs])\n",
    "\n",
    "kmeans = KMeans(n_clusters = len(keywords))\n",
    "labels = kmeans.fit_predict(idxs.reshape(-1, 1))\n",
    "centroid_idxs = list((kmeans.cluster_centers_ * len(arr_text)).astype(int).reshape(-1))\n",
    "\n",
    "for centroid_idx in centroid_idxs:\n",
    "    \n"
   ]
  },
  {
   "cell_type": "code",
   "execution_count": 40,
   "metadata": {},
   "outputs": [
    {
     "data": {
      "text/plain": [
       "'encoded'"
      ]
     },
     "execution_count": 40,
     "metadata": {},
     "output_type": "execute_result"
    }
   ],
   "source": [
    "i = centroid_idxs.reshape(-1)[0]\n",
    "arr_text[max(0, i - buffer):min(len(arr_text, ))]"
   ]
  },
  {
   "cell_type": "code",
   "execution_count": null,
   "metadata": {},
   "outputs": [],
   "source": []
  },
  {
   "cell_type": "code",
   "execution_count": 26,
   "metadata": {},
   "outputs": [
    {
     "data": {
      "text/plain": [
       "array([0.35428006, 0.63854527, 0.64398812, 0.70781791, 0.71128154,\n",
       "       0.71622959, 0.76224641, 0.78698664, 0.35452746, 0.76249381,\n",
       "       0.49059871, 0.58881742, 0.89658585, 0.99430975, 0.49505195])"
      ]
     },
     "execution_count": 26,
     "metadata": {},
     "output_type": "execute_result"
    }
   ],
   "source": [
    "idxs"
   ]
  }
 ],
 "metadata": {
  "kernelspec": {
   "display_name": "hackathon",
   "language": "python",
   "name": "python3"
  },
  "language_info": {
   "codemirror_mode": {
    "name": "ipython",
    "version": 3
   },
   "file_extension": ".py",
   "mimetype": "text/x-python",
   "name": "python",
   "nbconvert_exporter": "python",
   "pygments_lexer": "ipython3",
   "version": "3.9.13"
  },
  "orig_nbformat": 4
 },
 "nbformat": 4,
 "nbformat_minor": 2
}
